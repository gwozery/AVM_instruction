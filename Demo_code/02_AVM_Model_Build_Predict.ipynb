{
 "cells": [
  {
   "cell_type": "markdown",
   "metadata": {},
   "source": [
    "# Linear Regression with Python\n",
    "\n",
    "在本次的課堂中，我們將會使用實際的房屋相關資料來進行機器學習的訓練及預測，我們將會嘗試使用Linear Regression來預測\n",
    "\n",
    "以下是我們將用來預測的資料集長相：\n",
    "\n",
    "Variable      | Definition  | \n",
    "--------------|:-----------:|\n",
    "TYPE          | 房屋型態 |\n",
    "LOCATION      | 行政區 | \n",
    "LANDAREA      | 地（平方公尺） | \n",
    "AREA          | 建 （平方公尺）|\n",
    "ROOM          | 房間數 |      \n",
    "BATH          | 衛浴數 | \n",
    "LTP           |  房屋總價取log| "
   ]
  },
  {
   "cell_type": "markdown",
   "metadata": {},
   "source": [
    "## Import Libraries"
   ]
  },
  {
   "cell_type": "code",
   "execution_count": 1,
   "metadata": {},
   "outputs": [],
   "source": [
    "import numpy as np\n",
    "import pandas as pd\n",
    "import statsmodels.api as sm #用於驗證模型預測品質\n",
    "from sklearn.linear_model import LinearRegression #用於線性迴歸"
   ]
  },
  {
   "cell_type": "markdown",
   "metadata": {},
   "source": [
    "## The Data\n",
    "\n",
    "首先我們將taichung.xlsx檔案讀取進入到Pandas中成為dataframe型態"
   ]
  },
  {
   "cell_type": "code",
   "execution_count": 2,
   "metadata": {},
   "outputs": [],
   "source": [
    "df = pd.read_excel('taichung.xlsx')"
   ]
  },
  {
   "cell_type": "code",
   "execution_count": 3,
   "metadata": {},
   "outputs": [
    {
     "data": {
      "text/html": [
       "<div>\n",
       "<style scoped>\n",
       "    .dataframe tbody tr th:only-of-type {\n",
       "        vertical-align: middle;\n",
       "    }\n",
       "\n",
       "    .dataframe tbody tr th {\n",
       "        vertical-align: top;\n",
       "    }\n",
       "\n",
       "    .dataframe thead th {\n",
       "        text-align: right;\n",
       "    }\n",
       "</style>\n",
       "<table border=\"1\" class=\"dataframe\">\n",
       "  <thead>\n",
       "    <tr style=\"text-align: right;\">\n",
       "      <th></th>\n",
       "      <th>TYPE</th>\n",
       "      <th>LOCATION</th>\n",
       "      <th>LANDAREA</th>\n",
       "      <th>AREA</th>\n",
       "      <th>ROOM</th>\n",
       "      <th>BATH</th>\n",
       "      <th>LTP</th>\n",
       "    </tr>\n",
       "  </thead>\n",
       "  <tbody>\n",
       "    <tr>\n",
       "      <th>0</th>\n",
       "      <td>透天厝</td>\n",
       "      <td>清水區</td>\n",
       "      <td>155.5</td>\n",
       "      <td>165.1</td>\n",
       "      <td>3</td>\n",
       "      <td>2</td>\n",
       "      <td>15.319588</td>\n",
       "    </tr>\n",
       "  </tbody>\n",
       "</table>\n",
       "</div>"
      ],
      "text/plain": [
       "  TYPE LOCATION  LANDAREA   AREA  ROOM  BATH        LTP\n",
       "0  透天厝      清水區     155.5  165.1     3     2  15.319588"
      ]
     },
     "execution_count": 3,
     "metadata": {},
     "output_type": "execute_result"
    }
   ],
   "source": [
    "df.head(1)"
   ]
  },
  {
   "cell_type": "code",
   "execution_count": 4,
   "metadata": {},
   "outputs": [],
   "source": [
    "df = df[df['TYPE'] == '透天厝']"
   ]
  },
  {
   "cell_type": "code",
   "execution_count": 5,
   "metadata": {},
   "outputs": [
    {
     "data": {
      "text/html": [
       "<div>\n",
       "<style scoped>\n",
       "    .dataframe tbody tr th:only-of-type {\n",
       "        vertical-align: middle;\n",
       "    }\n",
       "\n",
       "    .dataframe tbody tr th {\n",
       "        vertical-align: top;\n",
       "    }\n",
       "\n",
       "    .dataframe thead th {\n",
       "        text-align: right;\n",
       "    }\n",
       "</style>\n",
       "<table border=\"1\" class=\"dataframe\">\n",
       "  <thead>\n",
       "    <tr style=\"text-align: right;\">\n",
       "      <th></th>\n",
       "      <th>TYPE</th>\n",
       "      <th>LOCATION</th>\n",
       "      <th>LANDAREA</th>\n",
       "      <th>AREA</th>\n",
       "      <th>ROOM</th>\n",
       "      <th>BATH</th>\n",
       "      <th>LTP</th>\n",
       "    </tr>\n",
       "  </thead>\n",
       "  <tbody>\n",
       "    <tr>\n",
       "      <th>0</th>\n",
       "      <td>透天厝</td>\n",
       "      <td>清水區</td>\n",
       "      <td>155.5</td>\n",
       "      <td>165.1</td>\n",
       "      <td>3</td>\n",
       "      <td>2</td>\n",
       "      <td>15.319588</td>\n",
       "    </tr>\n",
       "  </tbody>\n",
       "</table>\n",
       "</div>"
      ],
      "text/plain": [
       "  TYPE LOCATION  LANDAREA   AREA  ROOM  BATH        LTP\n",
       "0  透天厝      清水區     155.5  165.1     3     2  15.319588"
      ]
     },
     "execution_count": 5,
     "metadata": {},
     "output_type": "execute_result"
    }
   ],
   "source": [
    "df.head(1)"
   ]
  },
  {
   "cell_type": "code",
   "execution_count": 6,
   "metadata": {},
   "outputs": [
    {
     "name": "stdout",
     "output_type": "stream",
     "text": [
      "<class 'pandas.core.frame.DataFrame'>\n",
      "Int64Index: 12770 entries, 0 to 12769\n",
      "Data columns (total 7 columns):\n",
      "TYPE        12770 non-null object\n",
      "LOCATION    12770 non-null object\n",
      "LANDAREA    12770 non-null float64\n",
      "AREA        12770 non-null float64\n",
      "ROOM        12770 non-null int64\n",
      "BATH        12770 non-null int64\n",
      "LTP         12770 non-null float64\n",
      "dtypes: float64(3), int64(2), object(2)\n",
      "memory usage: 798.1+ KB\n"
     ]
    }
   ],
   "source": [
    "df.info()"
   ]
  },
  {
   "cell_type": "markdown",
   "metadata": {},
   "source": [
    "## Converting Categorical Features \n",
    "\n",
    "機器學習演算法將無法直接使用分類特徵（例如：行政區），所以我們需要使用pandas將分類特徵轉換為虛擬變量！"
   ]
  },
  {
   "cell_type": "code",
   "execution_count": 7,
   "metadata": {
    "scrolled": false
   },
   "outputs": [],
   "source": [
    "df = df.join(pd.get_dummies(df['LOCATION']))"
   ]
  },
  {
   "cell_type": "markdown",
   "metadata": {},
   "source": [
    "## In_samlple and Out_sample Split\n",
    "\n",
    "我們將資料集分割為訓練用及預測用兩個資料集，並去除訓練不需要的欄位"
   ]
  },
  {
   "cell_type": "code",
   "execution_count": 8,
   "metadata": {},
   "outputs": [],
   "source": [
    "in_df = df[:10000]\n",
    "out_df = df[10000:]\n",
    "X_in = in_df.drop(['TYPE','LOCATION','LTP'],axis=1)\n",
    "y_in = in_df['LTP']\n",
    "X_out = out_df.drop(['TYPE','LOCATION','LTP'],axis=1)"
   ]
  },
  {
   "cell_type": "code",
   "execution_count": 9,
   "metadata": {},
   "outputs": [],
   "source": [
    "li_regr = LinearRegression()"
   ]
  },
  {
   "cell_type": "code",
   "execution_count": 10,
   "metadata": {
    "scrolled": false
   },
   "outputs": [
    {
     "name": "stderr",
     "output_type": "stream",
     "text": [
      "/Users/sujuan/anaconda3/envs/my_ml_env/lib/python3.6/site-packages/scipy/linalg/basic.py:1018: RuntimeWarning: internal gelsd driver lwork query error, required iwork dimension not returned. This is likely the result of LAPACK bug 0038, fixed in LAPACK 3.2.2 (released July 21, 2010). Falling back to 'gelss' driver.\n",
      "  warnings.warn(mesg, RuntimeWarning)\n"
     ]
    },
    {
     "data": {
      "text/plain": [
       "LinearRegression(copy_X=True, fit_intercept=True, n_jobs=1, normalize=False)"
      ]
     },
     "execution_count": 10,
     "metadata": {},
     "output_type": "execute_result"
    }
   ],
   "source": [
    "li_regr.fit(X_in, y_in)"
   ]
  },
  {
   "cell_type": "markdown",
   "metadata": {},
   "source": [
    "## R-SQUARED\n",
    "決定係數：若線性回歸的效果比起平均值越好，決定係數的值就越接近於1。"
   ]
  },
  {
   "cell_type": "code",
   "execution_count": 11,
   "metadata": {},
   "outputs": [
    {
     "data": {
      "text/plain": [
       "0.61102845983916054"
      ]
     },
     "execution_count": 11,
     "metadata": {},
     "output_type": "execute_result"
    }
   ],
   "source": [
    "# R-SQUARED\n",
    "li_regr.score(X_in, y_in)"
   ]
  },
  {
   "cell_type": "markdown",
   "metadata": {},
   "source": [
    "## Hit rate and Mape\n",
    "* Hit rate：命中率\n",
    "* MAPE：平均絕對百分比誤差(mean absolute percentage error)"
   ]
  },
  {
   "cell_type": "code",
   "execution_count": 12,
   "metadata": {
    "scrolled": true
   },
   "outputs": [],
   "source": [
    "df_result_in = in_df.copy()\n",
    "df_result_in['PTP'] = li_regr.predict(X_in)\n",
    "df_result_in['E_PTP'] = np.exp(df_result_in['PTP'])\n",
    "df_result_in['E_LTP'] = np.exp(df_result_in['LTP'])"
   ]
  },
  {
   "cell_type": "code",
   "execution_count": 13,
   "metadata": {},
   "outputs": [],
   "source": [
    "df_result_out = out_df.copy()\n",
    "df_result_out['PTP'] = li_regr.predict(X_out)\n",
    "df_result_out['E_PTP'] = np.exp(df_result_out['PTP'])\n",
    "df_result_out['E_LTP'] = np.exp(df_result_out['LTP'])"
   ]
  },
  {
   "cell_type": "code",
   "execution_count": 14,
   "metadata": {},
   "outputs": [],
   "source": [
    "df_result_combine = df_result_in.append(df_result_out)"
   ]
  },
  {
   "cell_type": "code",
   "execution_count": 15,
   "metadata": {},
   "outputs": [],
   "source": [
    "def hit_rate(df, i):\n",
    "    hit_rate = df[(abs(df['E_PTP'] / df['E_LTP'] -1) <= i)].shape[0] / df['E_LTP'].count() #shape[0] 筆數 shape[1]欄數\n",
    "    return '%.4f'%hit_rate"
   ]
  },
  {
   "cell_type": "code",
   "execution_count": 16,
   "metadata": {},
   "outputs": [
    {
     "name": "stdout",
     "output_type": "stream",
     "text": [
      "ALL\n",
      "0.2296\n",
      "0.4421\n",
      "31.28\n",
      "\n",
      "IN SAMPLE\n",
      "0.2335\n",
      "0.4447\n",
      "32.03\n",
      "\n",
      "OUT SAMPLE\n",
      "0.2155\n",
      "0.4325\n",
      "28.54\n"
     ]
    }
   ],
   "source": [
    "hr = [0.1, 0.2]\n",
    "\n",
    "print('ALL')\n",
    "for i in hr:\n",
    "    print(hit_rate(df_result_combine, i))\n",
    "mape = abs(df_result_combine['E_PTP'] / df_result_combine['E_LTP'] -1).mean()\n",
    "print('%.2f'%(mape*100))\n",
    "print()\n",
    "\n",
    "#in sample    \n",
    "print('IN SAMPLE')\n",
    "for i in hr:\n",
    "    print(hit_rate(df_result_in, i))\n",
    "mape = abs(df_result_in['E_PTP'] / df_result_in['E_LTP'] -1).mean()\n",
    "print('%.2f'%(mape*100))\n",
    "print()\n",
    "\n",
    "#out sample\n",
    "print('OUT SAMPLE')\n",
    "for i in hr:\n",
    "    print(hit_rate(df_result_out, i))\n",
    "mape = abs(df_result_out['E_PTP'] / df_result_out['E_LTP'] -1).mean()\n",
    "print('%.2f'%(mape*100))"
   ]
  },
  {
   "cell_type": "markdown",
   "metadata": {},
   "source": [
    "* Hit rate：越接近1表示表現越好\n",
    "* MAPE：越小表示表現越好"
   ]
  }
 ],
 "metadata": {
  "kernelspec": {
   "display_name": "Python 3",
   "language": "python",
   "name": "python3"
  },
  "language_info": {
   "codemirror_mode": {
    "name": "ipython",
    "version": 3
   },
   "file_extension": ".py",
   "mimetype": "text/x-python",
   "name": "python",
   "nbconvert_exporter": "python",
   "pygments_lexer": "ipython3",
   "version": "3.6.5"
  }
 },
 "nbformat": 4,
 "nbformat_minor": 2
}
